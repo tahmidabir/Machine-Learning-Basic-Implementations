{
  "nbformat": 4,
  "nbformat_minor": 0,
  "metadata": {
    "colab": {
      "name": "Basic ML Implementation.ipynb",
      "provenance": [],
      "collapsed_sections": [
        "vAWOr0H5QC9G",
        "R4qLS8ohQdMF"
      ]
    },
    "kernelspec": {
      "name": "python3",
      "display_name": "Python 3"
    }
  },
  "cells": [
    {
      "cell_type": "markdown",
      "metadata": {
        "id": "vAWOr0H5QC9G"
      },
      "source": [
        "# ***Importing Dataset***"
      ]
    },
    {
      "cell_type": "markdown",
      "source": [
        "*Here we are importing the Pandas, Numpy and Sklearn library in Colab, then we upload the dataset in colab, copy the path and open that csv file.*"
      ],
      "metadata": {
        "id": "WbaQfHBz2KYY"
      }
    },
    {
      "cell_type": "code",
      "metadata": {
        "id": "PKHYq5gbQHql",
        "colab": {
          "base_uri": "https://localhost:8080/",
          "height": 478
        },
        "outputId": "6e6cb1c4-c8bd-497c-873c-9bb51d03ecc1"
      },
      "source": [
        "import pandas as pd\n",
        "import numpy as np\n",
        "import sklearn\n",
        "\n",
        "dataset=pd.read_csv('/content/mushroom edibility classification dataset.csv')\n",
        "dataset.head()"
      ],
      "execution_count": 1,
      "outputs": [
        {
          "output_type": "execute_result",
          "data": {
            "text/html": [
              "\n",
              "  <div id=\"df-3657daab-372e-4315-9f2f-1045cf56528a\">\n",
              "    <div class=\"colab-df-container\">\n",
              "      <div>\n",
              "<style scoped>\n",
              "    .dataframe tbody tr th:only-of-type {\n",
              "        vertical-align: middle;\n",
              "    }\n",
              "\n",
              "    .dataframe tbody tr th {\n",
              "        vertical-align: top;\n",
              "    }\n",
              "\n",
              "    .dataframe thead th {\n",
              "        text-align: right;\n",
              "    }\n",
              "</style>\n",
              "<table border=\"1\" class=\"dataframe\">\n",
              "  <thead>\n",
              "    <tr style=\"text-align: right;\">\n",
              "      <th></th>\n",
              "      <th>Unnamed: 0</th>\n",
              "      <th>class</th>\n",
              "      <th>cap-shape</th>\n",
              "      <th>cap-surface</th>\n",
              "      <th>cap-color</th>\n",
              "      <th>bruises</th>\n",
              "      <th>odor</th>\n",
              "      <th>stalk-shape</th>\n",
              "      <th>stalk-root</th>\n",
              "      <th>stalk-surface-above-ring</th>\n",
              "      <th>stalk-surface-below-ring</th>\n",
              "      <th>stalk-color-above-ring</th>\n",
              "      <th>stalk-color-below-ring</th>\n",
              "      <th>veil-type</th>\n",
              "      <th>veil-color</th>\n",
              "      <th>ring-number</th>\n",
              "      <th>ring-type</th>\n",
              "      <th>spore-print-color</th>\n",
              "      <th>population</th>\n",
              "      <th>habitat</th>\n",
              "    </tr>\n",
              "  </thead>\n",
              "  <tbody>\n",
              "    <tr>\n",
              "      <th>0</th>\n",
              "      <td>0</td>\n",
              "      <td>poisonous</td>\n",
              "      <td>5.0</td>\n",
              "      <td>2</td>\n",
              "      <td>4.0</td>\n",
              "      <td>bruises is there</td>\n",
              "      <td>6</td>\n",
              "      <td>0</td>\n",
              "      <td>3</td>\n",
              "      <td>2</td>\n",
              "      <td>2</td>\n",
              "      <td>7</td>\n",
              "      <td>7</td>\n",
              "      <td>0</td>\n",
              "      <td>2</td>\n",
              "      <td>1</td>\n",
              "      <td>4</td>\n",
              "      <td>2</td>\n",
              "      <td>3</td>\n",
              "      <td>5</td>\n",
              "    </tr>\n",
              "    <tr>\n",
              "      <th>1</th>\n",
              "      <td>1</td>\n",
              "      <td>edible</td>\n",
              "      <td>5.0</td>\n",
              "      <td>2</td>\n",
              "      <td>9.0</td>\n",
              "      <td>bruises is there</td>\n",
              "      <td>0</td>\n",
              "      <td>0</td>\n",
              "      <td>2</td>\n",
              "      <td>2</td>\n",
              "      <td>2</td>\n",
              "      <td>7</td>\n",
              "      <td>7</td>\n",
              "      <td>0</td>\n",
              "      <td>2</td>\n",
              "      <td>1</td>\n",
              "      <td>4</td>\n",
              "      <td>3</td>\n",
              "      <td>2</td>\n",
              "      <td>1</td>\n",
              "    </tr>\n",
              "    <tr>\n",
              "      <th>2</th>\n",
              "      <td>2</td>\n",
              "      <td>edible</td>\n",
              "      <td>0.0</td>\n",
              "      <td>2</td>\n",
              "      <td>8.0</td>\n",
              "      <td>bruises is there</td>\n",
              "      <td>3</td>\n",
              "      <td>0</td>\n",
              "      <td>2</td>\n",
              "      <td>2</td>\n",
              "      <td>2</td>\n",
              "      <td>7</td>\n",
              "      <td>7</td>\n",
              "      <td>0</td>\n",
              "      <td>2</td>\n",
              "      <td>1</td>\n",
              "      <td>4</td>\n",
              "      <td>3</td>\n",
              "      <td>2</td>\n",
              "      <td>3</td>\n",
              "    </tr>\n",
              "    <tr>\n",
              "      <th>3</th>\n",
              "      <td>3</td>\n",
              "      <td>poisonous</td>\n",
              "      <td>5.0</td>\n",
              "      <td>3</td>\n",
              "      <td>8.0</td>\n",
              "      <td>bruises is there</td>\n",
              "      <td>6</td>\n",
              "      <td>0</td>\n",
              "      <td>3</td>\n",
              "      <td>2</td>\n",
              "      <td>2</td>\n",
              "      <td>7</td>\n",
              "      <td>7</td>\n",
              "      <td>0</td>\n",
              "      <td>2</td>\n",
              "      <td>1</td>\n",
              "      <td>4</td>\n",
              "      <td>2</td>\n",
              "      <td>3</td>\n",
              "      <td>5</td>\n",
              "    </tr>\n",
              "    <tr>\n",
              "      <th>4</th>\n",
              "      <td>4</td>\n",
              "      <td>edible</td>\n",
              "      <td>5.0</td>\n",
              "      <td>2</td>\n",
              "      <td>3.0</td>\n",
              "      <td>no bruises</td>\n",
              "      <td>5</td>\n",
              "      <td>1</td>\n",
              "      <td>3</td>\n",
              "      <td>2</td>\n",
              "      <td>2</td>\n",
              "      <td>7</td>\n",
              "      <td>7</td>\n",
              "      <td>0</td>\n",
              "      <td>2</td>\n",
              "      <td>1</td>\n",
              "      <td>0</td>\n",
              "      <td>3</td>\n",
              "      <td>0</td>\n",
              "      <td>1</td>\n",
              "    </tr>\n",
              "  </tbody>\n",
              "</table>\n",
              "</div>\n",
              "      <button class=\"colab-df-convert\" onclick=\"convertToInteractive('df-3657daab-372e-4315-9f2f-1045cf56528a')\"\n",
              "              title=\"Convert this dataframe to an interactive table.\"\n",
              "              style=\"display:none;\">\n",
              "        \n",
              "  <svg xmlns=\"http://www.w3.org/2000/svg\" height=\"24px\"viewBox=\"0 0 24 24\"\n",
              "       width=\"24px\">\n",
              "    <path d=\"M0 0h24v24H0V0z\" fill=\"none\"/>\n",
              "    <path d=\"M18.56 5.44l.94 2.06.94-2.06 2.06-.94-2.06-.94-.94-2.06-.94 2.06-2.06.94zm-11 1L8.5 8.5l.94-2.06 2.06-.94-2.06-.94L8.5 2.5l-.94 2.06-2.06.94zm10 10l.94 2.06.94-2.06 2.06-.94-2.06-.94-.94-2.06-.94 2.06-2.06.94z\"/><path d=\"M17.41 7.96l-1.37-1.37c-.4-.4-.92-.59-1.43-.59-.52 0-1.04.2-1.43.59L10.3 9.45l-7.72 7.72c-.78.78-.78 2.05 0 2.83L4 21.41c.39.39.9.59 1.41.59.51 0 1.02-.2 1.41-.59l7.78-7.78 2.81-2.81c.8-.78.8-2.07 0-2.86zM5.41 20L4 18.59l7.72-7.72 1.47 1.35L5.41 20z\"/>\n",
              "  </svg>\n",
              "      </button>\n",
              "      \n",
              "  <style>\n",
              "    .colab-df-container {\n",
              "      display:flex;\n",
              "      flex-wrap:wrap;\n",
              "      gap: 12px;\n",
              "    }\n",
              "\n",
              "    .colab-df-convert {\n",
              "      background-color: #E8F0FE;\n",
              "      border: none;\n",
              "      border-radius: 50%;\n",
              "      cursor: pointer;\n",
              "      display: none;\n",
              "      fill: #1967D2;\n",
              "      height: 32px;\n",
              "      padding: 0 0 0 0;\n",
              "      width: 32px;\n",
              "    }\n",
              "\n",
              "    .colab-df-convert:hover {\n",
              "      background-color: #E2EBFA;\n",
              "      box-shadow: 0px 1px 2px rgba(60, 64, 67, 0.3), 0px 1px 3px 1px rgba(60, 64, 67, 0.15);\n",
              "      fill: #174EA6;\n",
              "    }\n",
              "\n",
              "    [theme=dark] .colab-df-convert {\n",
              "      background-color: #3B4455;\n",
              "      fill: #D2E3FC;\n",
              "    }\n",
              "\n",
              "    [theme=dark] .colab-df-convert:hover {\n",
              "      background-color: #434B5C;\n",
              "      box-shadow: 0px 1px 3px 1px rgba(0, 0, 0, 0.15);\n",
              "      filter: drop-shadow(0px 1px 2px rgba(0, 0, 0, 0.3));\n",
              "      fill: #FFFFFF;\n",
              "    }\n",
              "  </style>\n",
              "\n",
              "      <script>\n",
              "        const buttonEl =\n",
              "          document.querySelector('#df-3657daab-372e-4315-9f2f-1045cf56528a button.colab-df-convert');\n",
              "        buttonEl.style.display =\n",
              "          google.colab.kernel.accessAllowed ? 'block' : 'none';\n",
              "\n",
              "        async function convertToInteractive(key) {\n",
              "          const element = document.querySelector('#df-3657daab-372e-4315-9f2f-1045cf56528a');\n",
              "          const dataTable =\n",
              "            await google.colab.kernel.invokeFunction('convertToInteractive',\n",
              "                                                     [key], {});\n",
              "          if (!dataTable) return;\n",
              "\n",
              "          const docLinkHtml = 'Like what you see? Visit the ' +\n",
              "            '<a target=\"_blank\" href=https://colab.research.google.com/notebooks/data_table.ipynb>data table notebook</a>'\n",
              "            + ' to learn more about interactive tables.';\n",
              "          element.innerHTML = '';\n",
              "          dataTable['output_type'] = 'display_data';\n",
              "          await google.colab.output.renderOutput(dataTable, element);\n",
              "          const docLink = document.createElement('div');\n",
              "          docLink.innerHTML = docLinkHtml;\n",
              "          element.appendChild(docLink);\n",
              "        }\n",
              "      </script>\n",
              "    </div>\n",
              "  </div>\n",
              "  "
            ],
            "text/plain": [
              "   Unnamed: 0      class  cap-shape  ...  spore-print-color  population habitat\n",
              "0           0  poisonous        5.0  ...                  2           3       5\n",
              "1           1     edible        5.0  ...                  3           2       1\n",
              "2           2     edible        0.0  ...                  3           2       3\n",
              "3           3  poisonous        5.0  ...                  2           3       5\n",
              "4           4     edible        5.0  ...                  3           0       1\n",
              "\n",
              "[5 rows x 20 columns]"
            ]
          },
          "metadata": {},
          "execution_count": 1
        }
      ]
    },
    {
      "cell_type": "markdown",
      "metadata": {
        "id": "R4qLS8ohQdMF"
      },
      "source": [
        "# ***Pre-Processing Steps***"
      ]
    },
    {
      "cell_type": "markdown",
      "metadata": {
        "id": "xueUPCKnTCZV"
      },
      "source": [
        "**Handelling Missing Values**"
      ]
    },
    {
      "cell_type": "markdown",
      "source": [
        "*Here we will find out the number of null values in the dataset, then replace the null values with mean value.*"
      ],
      "metadata": {
        "id": "sVSNf0Xo2qsg"
      }
    },
    {
      "cell_type": "code",
      "metadata": {
        "id": "VpCUKlSiQxQ-",
        "colab": {
          "base_uri": "https://localhost:8080/"
        },
        "outputId": "b3e07d8f-61b6-40e4-ddd8-dc4a9dd6c83a"
      },
      "source": [
        "dataset.shape"
      ],
      "execution_count": 2,
      "outputs": [
        {
          "output_type": "execute_result",
          "data": {
            "text/plain": [
              "(3124, 20)"
            ]
          },
          "metadata": {},
          "execution_count": 2
        }
      ]
    },
    {
      "cell_type": "code",
      "metadata": {
        "id": "bdgatp5TQ28t",
        "colab": {
          "base_uri": "https://localhost:8080/"
        },
        "outputId": "6395266d-b2df-4303-c891-b33b2867a95a"
      },
      "source": [
        "dataset.isnull().sum()"
      ],
      "execution_count": 3,
      "outputs": [
        {
          "output_type": "execute_result",
          "data": {
            "text/plain": [
              "Unnamed: 0                  0\n",
              "class                       0\n",
              "cap-shape                   8\n",
              "cap-surface                 0\n",
              "cap-color                   8\n",
              "bruises                     0\n",
              "odor                        0\n",
              "stalk-shape                 0\n",
              "stalk-root                  0\n",
              "stalk-surface-above-ring    0\n",
              "stalk-surface-below-ring    0\n",
              "stalk-color-above-ring      0\n",
              "stalk-color-below-ring      0\n",
              "veil-type                   0\n",
              "veil-color                  0\n",
              "ring-number                 0\n",
              "ring-type                   0\n",
              "spore-print-color           0\n",
              "population                  0\n",
              "habitat                     0\n",
              "dtype: int64"
            ]
          },
          "metadata": {},
          "execution_count": 3
        }
      ]
    },
    {
      "cell_type": "code",
      "metadata": {
        "id": "4l7ytsqSRTIS"
      },
      "source": [
        "from sklearn.impute import SimpleImputer\n",
        "\n",
        "impute = SimpleImputer(missing_values=np.nan,strategy='mean')\n",
        "impute.fit(dataset[['cap-shape']])\n",
        "dataset['cap-shape']=impute.transform(dataset[['cap-shape']])"
      ],
      "execution_count": 4,
      "outputs": []
    },
    {
      "cell_type": "code",
      "metadata": {
        "id": "nH41QuwyRhK1"
      },
      "source": [
        "from sklearn.impute import SimpleImputer\n",
        "\n",
        "impute = SimpleImputer(missing_values=np.nan,strategy='mean')\n",
        "impute.fit(dataset[['cap-color']])\n",
        "dataset['cap-color']=impute.transform(dataset[['cap-color']])"
      ],
      "execution_count": 5,
      "outputs": []
    },
    {
      "cell_type": "code",
      "metadata": {
        "id": "aQgxp2r3RqA-",
        "colab": {
          "base_uri": "https://localhost:8080/"
        },
        "outputId": "0d96186c-6c55-4b10-d65c-91005de2f2fe"
      },
      "source": [
        "dataset.isnull().sum()"
      ],
      "execution_count": 6,
      "outputs": [
        {
          "output_type": "execute_result",
          "data": {
            "text/plain": [
              "Unnamed: 0                  0\n",
              "class                       0\n",
              "cap-shape                   0\n",
              "cap-surface                 0\n",
              "cap-color                   0\n",
              "bruises                     0\n",
              "odor                        0\n",
              "stalk-shape                 0\n",
              "stalk-root                  0\n",
              "stalk-surface-above-ring    0\n",
              "stalk-surface-below-ring    0\n",
              "stalk-color-above-ring      0\n",
              "stalk-color-below-ring      0\n",
              "veil-type                   0\n",
              "veil-color                  0\n",
              "ring-number                 0\n",
              "ring-type                   0\n",
              "spore-print-color           0\n",
              "population                  0\n",
              "habitat                     0\n",
              "dtype: int64"
            ]
          },
          "metadata": {},
          "execution_count": 6
        }
      ]
    },
    {
      "cell_type": "markdown",
      "metadata": {
        "id": "PUro6o9ATS-9"
      },
      "source": [
        " ***Encoding Categorical Features*** \n"
      ]
    },
    {
      "cell_type": "code",
      "metadata": {
        "id": "bnqVUGwBTUE1",
        "colab": {
          "base_uri": "https://localhost:8080/"
        },
        "outputId": "c261487b-c209-45c3-9fa8-0c3cda658f56"
      },
      "source": [
        "dataset.info()"
      ],
      "execution_count": 7,
      "outputs": [
        {
          "output_type": "stream",
          "name": "stdout",
          "text": [
            "<class 'pandas.core.frame.DataFrame'>\n",
            "RangeIndex: 3124 entries, 0 to 3123\n",
            "Data columns (total 20 columns):\n",
            " #   Column                    Non-Null Count  Dtype  \n",
            "---  ------                    --------------  -----  \n",
            " 0   Unnamed: 0                3124 non-null   int64  \n",
            " 1   class                     3124 non-null   object \n",
            " 2   cap-shape                 3124 non-null   float64\n",
            " 3   cap-surface               3124 non-null   int64  \n",
            " 4   cap-color                 3124 non-null   float64\n",
            " 5   bruises                   3124 non-null   object \n",
            " 6   odor                      3124 non-null   int64  \n",
            " 7   stalk-shape               3124 non-null   int64  \n",
            " 8   stalk-root                3124 non-null   int64  \n",
            " 9   stalk-surface-above-ring  3124 non-null   int64  \n",
            " 10  stalk-surface-below-ring  3124 non-null   int64  \n",
            " 11  stalk-color-above-ring    3124 non-null   int64  \n",
            " 12  stalk-color-below-ring    3124 non-null   int64  \n",
            " 13  veil-type                 3124 non-null   int64  \n",
            " 14  veil-color                3124 non-null   int64  \n",
            " 15  ring-number               3124 non-null   int64  \n",
            " 16  ring-type                 3124 non-null   int64  \n",
            " 17  spore-print-color         3124 non-null   int64  \n",
            " 18  population                3124 non-null   int64  \n",
            " 19  habitat                   3124 non-null   int64  \n",
            "dtypes: float64(2), int64(16), object(2)\n",
            "memory usage: 488.2+ KB\n"
          ]
        }
      ]
    },
    {
      "cell_type": "code",
      "metadata": {
        "id": "8AI6V0_4Tc1e",
        "colab": {
          "base_uri": "https://localhost:8080/"
        },
        "outputId": "1846ad8a-b1bf-46b5-b814-22575b20b067"
      },
      "source": [
        "dataset['bruises'].unique()"
      ],
      "execution_count": 8,
      "outputs": [
        {
          "output_type": "execute_result",
          "data": {
            "text/plain": [
              "array(['bruises is there', 'no bruises'], dtype=object)"
            ]
          },
          "metadata": {},
          "execution_count": 8
        }
      ]
    },
    {
      "cell_type": "code",
      "metadata": {
        "id": "79hzMRs7TgPG",
        "colab": {
          "base_uri": "https://localhost:8080/"
        },
        "outputId": "e078dd43-5212-48fb-a24e-d31ad2f7fedc"
      },
      "source": [
        "from sklearn.preprocessing import LabelEncoder\n",
        "\n",
        "enc=LabelEncoder()\n",
        "\n",
        "dataset['bruises']=enc.fit_transform(dataset['bruises'])\n",
        "\n",
        "print(dataset[['bruises']].head())"
      ],
      "execution_count": 9,
      "outputs": [
        {
          "output_type": "stream",
          "name": "stdout",
          "text": [
            "   bruises\n",
            "0        0\n",
            "1        0\n",
            "2        0\n",
            "3        0\n",
            "4        1\n"
          ]
        }
      ]
    },
    {
      "cell_type": "code",
      "metadata": {
        "id": "vONEdkvYRyu_"
      },
      "source": [
        "x=dataset.drop('class',1)"
      ],
      "execution_count": 10,
      "outputs": []
    },
    {
      "cell_type": "code",
      "metadata": {
        "id": "qY9y9EOSTCyN"
      },
      "source": [
        "dataset.reset_index(drop=True, inplace=True)"
      ],
      "execution_count": 11,
      "outputs": []
    },
    {
      "cell_type": "code",
      "metadata": {
        "id": "4fyGlS9fTHO3",
        "colab": {
          "base_uri": "https://localhost:8080/"
        },
        "outputId": "65b71b24-e0f8-4761-9b1b-a26f8b704aa3"
      },
      "source": [
        "x.keys()"
      ],
      "execution_count": 12,
      "outputs": [
        {
          "output_type": "execute_result",
          "data": {
            "text/plain": [
              "Index(['Unnamed: 0', 'cap-shape', 'cap-surface', 'cap-color', 'bruises',\n",
              "       'odor', 'stalk-shape', 'stalk-root', 'stalk-surface-above-ring',\n",
              "       'stalk-surface-below-ring', 'stalk-color-above-ring',\n",
              "       'stalk-color-below-ring', 'veil-type', 'veil-color', 'ring-number',\n",
              "       'ring-type', 'spore-print-color', 'population', 'habitat'],\n",
              "      dtype='object')"
            ]
          },
          "metadata": {},
          "execution_count": 12
        }
      ]
    },
    {
      "cell_type": "code",
      "metadata": {
        "id": "kf7QAeVXT4Fl"
      },
      "source": [
        "y=dataset['class']"
      ],
      "execution_count": 13,
      "outputs": []
    },
    {
      "cell_type": "code",
      "metadata": {
        "id": "N6w-d_19USvu",
        "colab": {
          "base_uri": "https://localhost:8080/"
        },
        "outputId": "c5c0c7a1-4610-4c21-911e-5ba6b9c097d9"
      },
      "source": [
        "y"
      ],
      "execution_count": 14,
      "outputs": [
        {
          "output_type": "execute_result",
          "data": {
            "text/plain": [
              "0       poisonous\n",
              "1          edible\n",
              "2          edible\n",
              "3       poisonous\n",
              "4          edible\n",
              "          ...    \n",
              "3119    poisonous\n",
              "3120       edible\n",
              "3121       edible\n",
              "3122    poisonous\n",
              "3123       edible\n",
              "Name: class, Length: 3124, dtype: object"
            ]
          },
          "metadata": {},
          "execution_count": 14
        }
      ]
    },
    {
      "cell_type": "code",
      "metadata": {
        "id": "SamIapCdVgZW"
      },
      "source": [
        "dataset['class']=enc.fit_transform(dataset['class'])"
      ],
      "execution_count": 15,
      "outputs": []
    },
    {
      "cell_type": "code",
      "metadata": {
        "id": "Yp9Vku--WKTm",
        "colab": {
          "base_uri": "https://localhost:8080/"
        },
        "outputId": "19e578b8-99d5-4ec3-e98b-65b94f254eff"
      },
      "source": [
        "x.keys()"
      ],
      "execution_count": 16,
      "outputs": [
        {
          "output_type": "execute_result",
          "data": {
            "text/plain": [
              "Index(['Unnamed: 0', 'cap-shape', 'cap-surface', 'cap-color', 'bruises',\n",
              "       'odor', 'stalk-shape', 'stalk-root', 'stalk-surface-above-ring',\n",
              "       'stalk-surface-below-ring', 'stalk-color-above-ring',\n",
              "       'stalk-color-below-ring', 'veil-type', 'veil-color', 'ring-number',\n",
              "       'ring-type', 'spore-print-color', 'population', 'habitat'],\n",
              "      dtype='object')"
            ]
          },
          "metadata": {},
          "execution_count": 16
        }
      ]
    },
    {
      "cell_type": "markdown",
      "metadata": {
        "id": "OwGpnyQ2Wkjh"
      },
      "source": [
        "# ***Data Visualization***"
      ]
    },
    {
      "cell_type": "code",
      "metadata": {
        "id": "WqKIDNCgWocN"
      },
      "source": [
        "from sklearn.preprocessing import StandardScaler\n",
        "scaler= StandardScaler()"
      ],
      "execution_count": 17,
      "outputs": []
    },
    {
      "cell_type": "code",
      "metadata": {
        "id": "ZnaE5yoEWuoe"
      },
      "source": [
        "dataset_df= pd.DataFrame(scaler.fit_transform(x), columns=[ '0', 'cap-shape', 'cap-surface', 'cap-color', 'bruises',\n",
        "       'odor', 'stalk-shape', 'stalk-root', 'stalk-surface-above-ring',\n",
        "       'stalk-surface-below-ring', 'stalk-color-above-ring',\n",
        "       'stalk-color-below-ring', 'veil-type', 'veil-color', 'ring-number',\n",
        "       'ring-type', 'spore-print-color', 'population', 'habitat'])"
      ],
      "execution_count": 18,
      "outputs": []
    },
    {
      "cell_type": "code",
      "metadata": {
        "id": "TkXKBctmaUgW",
        "colab": {
          "base_uri": "https://localhost:8080/",
          "height": 0
        },
        "outputId": "614f3d0a-79d0-448a-82bc-160511b4b230"
      },
      "source": [
        "from pandas.plotting import scatter_matrix\n",
        "scatter_matrix(dataset_df[[ '0', 'cap-shape', 'cap-surface', 'cap-color', 'bruises',\n",
        "       'odor', 'stalk-shape', 'stalk-root', 'stalk-surface-above-ring']] ,c=dataset['class'], figsize=(12,12), alpha=1)"
      ],
      "execution_count": 19,
      "outputs": [
        {
          "output_type": "execute_result",
          "data": {
            "text/plain": [
              "array([[<matplotlib.axes._subplots.AxesSubplot object at 0x7f0b6a34afd0>,\n",
              "        <matplotlib.axes._subplots.AxesSubplot object at 0x7f0b6a34fcd0>,\n",
              "        <matplotlib.axes._subplots.AxesSubplot object at 0x7f0b6a2d2ad0>,\n",
              "        <matplotlib.axes._subplots.AxesSubplot object at 0x7f0b6a294110>,\n",
              "        <matplotlib.axes._subplots.AxesSubplot object at 0x7f0b6a249710>,\n",
              "        <matplotlib.axes._subplots.AxesSubplot object at 0x7f0b6a1ffd10>,\n",
              "        <matplotlib.axes._subplots.AxesSubplot object at 0x7f0b6a1c33d0>,\n",
              "        <matplotlib.axes._subplots.AxesSubplot object at 0x7f0b6a179910>,\n",
              "        <matplotlib.axes._subplots.AxesSubplot object at 0x7f0b6a179950>],\n",
              "       [<matplotlib.axes._subplots.AxesSubplot object at 0x7f0b6a13b090>,\n",
              "        <matplotlib.axes._subplots.AxesSubplot object at 0x7f0b6a126b90>,\n",
              "        <matplotlib.axes._subplots.AxesSubplot object at 0x7f0b6a0e81d0>,\n",
              "        <matplotlib.axes._subplots.AxesSubplot object at 0x7f0b6a09d7d0>,\n",
              "        <matplotlib.axes._subplots.AxesSubplot object at 0x7f0b6a053dd0>,\n",
              "        <matplotlib.axes._subplots.AxesSubplot object at 0x7f0b6a015410>,\n",
              "        <matplotlib.axes._subplots.AxesSubplot object at 0x7f0b69fcca10>,\n",
              "        <matplotlib.axes._subplots.AxesSubplot object at 0x7f0b69f83fd0>,\n",
              "        <matplotlib.axes._subplots.AxesSubplot object at 0x7f0b69f44650>],\n",
              "       [<matplotlib.axes._subplots.AxesSubplot object at 0x7f0b69efac50>,\n",
              "        <matplotlib.axes._subplots.AxesSubplot object at 0x7f0b69ebd290>,\n",
              "        <matplotlib.axes._subplots.AxesSubplot object at 0x7f0b69e73890>,\n",
              "        <matplotlib.axes._subplots.AxesSubplot object at 0x7f0b69ea8e90>,\n",
              "        <matplotlib.axes._subplots.AxesSubplot object at 0x7f0b69e6a4d0>,\n",
              "        <matplotlib.axes._subplots.AxesSubplot object at 0x7f0b69e1fad0>,\n",
              "        <matplotlib.axes._subplots.AxesSubplot object at 0x7f0b69d6e390>,\n",
              "        <matplotlib.axes._subplots.AxesSubplot object at 0x7f0b69da09d0>,\n",
              "        <matplotlib.axes._subplots.AxesSubplot object at 0x7f0b69d4ead0>],\n",
              "       [<matplotlib.axes._subplots.AxesSubplot object at 0x7f0b69d1b610>,\n",
              "        <matplotlib.axes._subplots.AxesSubplot object at 0x7f0b69cd1c10>,\n",
              "        <matplotlib.axes._subplots.AxesSubplot object at 0x7f0b69c94250>,\n",
              "        <matplotlib.axes._subplots.AxesSubplot object at 0x7f0b69c48850>,\n",
              "        <matplotlib.axes._subplots.AxesSubplot object at 0x7f0b69c01990>,\n",
              "        <matplotlib.axes._subplots.AxesSubplot object at 0x7f0b69bb4e90>,\n",
              "        <matplotlib.axes._subplots.AxesSubplot object at 0x7f0b69b783d0>,\n",
              "        <matplotlib.axes._subplots.AxesSubplot object at 0x7f0b69b2e8d0>,\n",
              "        <matplotlib.axes._subplots.AxesSubplot object at 0x7f0b69b63dd0>],\n",
              "       [<matplotlib.axes._subplots.AxesSubplot object at 0x7f0b69b24310>,\n",
              "        <matplotlib.axes._subplots.AxesSubplot object at 0x7f0b69ad9810>,\n",
              "        <matplotlib.axes._subplots.AxesSubplot object at 0x7f0b69a90d10>,\n",
              "        <matplotlib.axes._subplots.AxesSubplot object at 0x7f0b69a51250>,\n",
              "        <matplotlib.axes._subplots.AxesSubplot object at 0x7f0b69a08750>,\n",
              "        <matplotlib.axes._subplots.AxesSubplot object at 0x7f0b699bdc50>,\n",
              "        <matplotlib.axes._subplots.AxesSubplot object at 0x7f0b69980190>,\n",
              "        <matplotlib.axes._subplots.AxesSubplot object at 0x7f0b69936690>,\n",
              "        <matplotlib.axes._subplots.AxesSubplot object at 0x7f0b69969b90>],\n",
              "       [<matplotlib.axes._subplots.AxesSubplot object at 0x7f0b698ad110>,\n",
              "        <matplotlib.axes._subplots.AxesSubplot object at 0x7f0b698e15d0>,\n",
              "        <matplotlib.axes._subplots.AxesSubplot object at 0x7f0b69898ad0>,\n",
              "        <matplotlib.axes._subplots.AxesSubplot object at 0x7f0b69844ad0>,\n",
              "        <matplotlib.axes._subplots.AxesSubplot object at 0x7f0b6980f510>,\n",
              "        <matplotlib.axes._subplots.AxesSubplot object at 0x7f0b697c4a10>,\n",
              "        <matplotlib.axes._subplots.AxesSubplot object at 0x7f0b6977ef50>,\n",
              "        <matplotlib.axes._subplots.AxesSubplot object at 0x7f0b6973f490>,\n",
              "        <matplotlib.axes._subplots.AxesSubplot object at 0x7f0b696f4990>],\n",
              "       [<matplotlib.axes._subplots.AxesSubplot object at 0x7f0b69728e90>,\n",
              "        <matplotlib.axes._subplots.AxesSubplot object at 0x7f0b6966d3d0>,\n",
              "        <matplotlib.axes._subplots.AxesSubplot object at 0x7f0b696a18d0>,\n",
              "        <matplotlib.axes._subplots.AxesSubplot object at 0x7f0b69656dd0>,\n",
              "        <matplotlib.axes._subplots.AxesSubplot object at 0x7f0b6a2e6590>,\n",
              "        <matplotlib.axes._subplots.AxesSubplot object at 0x7f0b6a0f0dd0>,\n",
              "        <matplotlib.axes._subplots.AxesSubplot object at 0x7f0b69f98450>,\n",
              "        <matplotlib.axes._subplots.AxesSubplot object at 0x7f0b69e1fed0>,\n",
              "        <matplotlib.axes._subplots.AxesSubplot object at 0x7f0b69c55b50>],\n",
              "       [<matplotlib.axes._subplots.AxesSubplot object at 0x7f0b69518910>,\n",
              "        <matplotlib.axes._subplots.AxesSubplot object at 0x7f0b694cef10>,\n",
              "        <matplotlib.axes._subplots.AxesSubplot object at 0x7f0b69491550>,\n",
              "        <matplotlib.axes._subplots.AxesSubplot object at 0x7f0b69446b50>,\n",
              "        <matplotlib.axes._subplots.AxesSubplot object at 0x7f0b69408190>,\n",
              "        <matplotlib.axes._subplots.AxesSubplot object at 0x7f0b693bd790>,\n",
              "        <matplotlib.axes._subplots.AxesSubplot object at 0x7f0b69373d90>,\n",
              "        <matplotlib.axes._subplots.AxesSubplot object at 0x7f0b693343d0>,\n",
              "        <matplotlib.axes._subplots.AxesSubplot object at 0x7f0b6936b9d0>],\n",
              "       [<matplotlib.axes._subplots.AxesSubplot object at 0x7f0b69316ad0>,\n",
              "        <matplotlib.axes._subplots.AxesSubplot object at 0x7f0b692e2610>,\n",
              "        <matplotlib.axes._subplots.AxesSubplot object at 0x7f0b6929abd0>,\n",
              "        <matplotlib.axes._subplots.AxesSubplot object at 0x7f0b6925c210>,\n",
              "        <matplotlib.axes._subplots.AxesSubplot object at 0x7f0b69212810>,\n",
              "        <matplotlib.axes._subplots.AxesSubplot object at 0x7f0b691c7e50>,\n",
              "        <matplotlib.axes._subplots.AxesSubplot object at 0x7f0b69189490>,\n",
              "        <matplotlib.axes._subplots.AxesSubplot object at 0x7f0b69140a90>,\n",
              "        <matplotlib.axes._subplots.AxesSubplot object at 0x7f0b69102110>]],\n",
              "      dtype=object)"
            ]
          },
          "metadata": {},
          "execution_count": 19
        },
        {
          "output_type": "display_data",
          "data": {
            "image/png": "[encoded data removed]",
            "text/plain": [
              "<Figure size 864x864 with 81 Axes>"
            ]
          },
          "metadata": {
            "needs_background": "light"
          }
        }
      ]
    },
    {
      "cell_type": "markdown",
      "metadata": {
        "id": "RutHpAjsbLvZ"
      },
      "source": [
        "# ***Data Split in 8:2***"
      ]
    },
    {
      "cell_type": "code",
      "metadata": {
        "id": "czb19WTXbOGN"
      },
      "source": [
        "from sklearn.model_selection import train_test_split\n",
        "x_train, x_test, y_train, y_test= train_test_split(dataset_df, y, stratify=y, test_size=0.2)"
      ],
      "execution_count": 20,
      "outputs": []
    },
    {
      "cell_type": "code",
      "metadata": {
        "id": "4CNiZzmRbXX9",
        "colab": {
          "base_uri": "https://localhost:8080/"
        },
        "outputId": "35e9664f-361b-44e5-e5de-73a08a2a1558"
      },
      "source": [
        "print(\"Training set: x->{} , y->{} \\n Testing set: x->{} , y->{}\".format(x_train.shape, y_train.shape, x_test.shape, y_test.shape))"
      ],
      "execution_count": 21,
      "outputs": [
        {
          "output_type": "stream",
          "name": "stdout",
          "text": [
            "Training set: x->(2499, 19) , y->(2499,) \n",
            " Testing set: x->(625, 19) , y->(625,)\n"
          ]
        }
      ]
    },
    {
      "cell_type": "markdown",
      "metadata": {
        "id": "iTKP6GJHbjYt"
      },
      "source": [
        "# ***SVC-Support Vector Machine Algorithm***"
      ]
    },
    {
      "cell_type": "code",
      "metadata": {
        "id": "Md_xYigjbl_d",
        "colab": {
          "base_uri": "https://localhost:8080/"
        },
        "outputId": "8aa2f20c-b010-4aff-9a8a-311a2e3a848e"
      },
      "source": [
        "from sklearn.svm import SVC\n",
        "svc = SVC(kernel=\"linear\")\n",
        "svc.fit(x_train, y_train)"
      ],
      "execution_count": 22,
      "outputs": [
        {
          "output_type": "execute_result",
          "data": {
            "text/plain": [
              "SVC(kernel='linear')"
            ]
          },
          "metadata": {},
          "execution_count": 22
        }
      ]
    },
    {
      "cell_type": "code",
      "metadata": {
        "id": "uLnHDtlobrG-",
        "colab": {
          "base_uri": "https://localhost:8080/"
        },
        "outputId": "b85150b4-2a9a-4f67-f508-644be9307e3f"
      },
      "source": [
        "print(\"Training accuracy of the model is {:.2f}\".format(svc.score(x_train, y_train)))\n",
        "print(\"Testing accuracy of the model is {:.2f}\".format(svc.score(x_test, y_test)))\n",
        "a1st=svc.score(x_test, y_test)"
      ],
      "execution_count": 23,
      "outputs": [
        {
          "output_type": "stream",
          "name": "stdout",
          "text": [
            "Training accuracy of the model is 1.00\n",
            "Testing accuracy of the model is 1.00\n"
          ]
        }
      ]
    },
    {
      "cell_type": "code",
      "metadata": {
        "id": "VsVfO1dab51v",
        "colab": {
          "base_uri": "https://localhost:8080/"
        },
        "outputId": "22d04471-dbcb-4aff-d1e3-cb8972441a55"
      },
      "source": [
        "predictions = svc.predict(x_test)\n",
        "print(predictions)"
      ],
      "execution_count": 24,
      "outputs": [
        {
          "output_type": "stream",
          "name": "stdout",
          "text": [
            "['edible' 'edible' 'edible' 'poisonous' 'edible' 'poisonous' 'poisonous'\n",
            " 'edible' 'edible' 'edible' 'poisonous' 'edible' 'edible' 'edible'\n",
            " 'edible' 'edible' 'edible' 'edible' 'edible' 'poisonous' 'edible'\n",
            " 'edible' 'edible' 'edible' 'edible' 'edible' 'edible' 'edible' 'edible'\n",
            " 'edible' 'poisonous' 'edible' 'edible' 'edible' 'edible' 'edible'\n",
            " 'edible' 'edible' 'poisonous' 'edible' 'edible' 'edible' 'edible'\n",
            " 'edible' 'edible' 'edible' 'edible' 'edible' 'edible' 'edible' 'edible'\n",
            " 'edible' 'edible' 'edible' 'edible' 'edible' 'edible' 'edible' 'edible'\n",
            " 'edible' 'poisonous' 'edible' 'edible' 'edible' 'edible' 'edible'\n",
            " 'edible' 'edible' 'poisonous' 'edible' 'edible' 'edible' 'edible'\n",
            " 'edible' 'edible' 'edible' 'edible' 'edible' 'edible' 'edible'\n",
            " 'poisonous' 'edible' 'edible' 'edible' 'edible' 'edible' 'edible'\n",
            " 'edible' 'edible' 'poisonous' 'edible' 'edible' 'edible' 'edible'\n",
            " 'edible' 'edible' 'edible' 'edible' 'edible' 'poisonous' 'edible'\n",
            " 'edible' 'edible' 'edible' 'edible' 'edible' 'edible' 'edible' 'edible'\n",
            " 'edible' 'poisonous' 'edible' 'edible' 'edible' 'edible' 'edible'\n",
            " 'edible' 'edible' 'edible' 'edible' 'edible' 'edible' 'edible' 'edible'\n",
            " 'edible' 'edible' 'edible' 'edible' 'edible' 'edible' 'edible' 'edible'\n",
            " 'edible' 'edible' 'edible' 'poisonous' 'edible' 'poisonous' 'edible'\n",
            " 'edible' 'edible' 'edible' 'edible' 'edible' 'edible' 'poisonous'\n",
            " 'poisonous' 'edible' 'edible' 'edible' 'edible' 'edible' 'edible'\n",
            " 'edible' 'edible' 'edible' 'poisonous' 'edible' 'edible' 'edible'\n",
            " 'edible' 'edible' 'edible' 'edible' 'edible' 'edible' 'poisonous'\n",
            " 'poisonous' 'edible' 'edible' 'edible' 'edible' 'edible' 'edible'\n",
            " 'poisonous' 'edible' 'edible' 'edible' 'poisonous' 'edible' 'edible'\n",
            " 'edible' 'edible' 'edible' 'edible' 'edible' 'edible' 'edible' 'edible'\n",
            " 'edible' 'poisonous' 'poisonous' 'poisonous' 'edible' 'edible' 'edible'\n",
            " 'edible' 'edible' 'edible' 'edible' 'edible' 'edible' 'edible' 'edible'\n",
            " 'edible' 'edible' 'edible' 'edible' 'edible' 'edible' 'edible' 'edible'\n",
            " 'poisonous' 'edible' 'poisonous' 'edible' 'edible' 'edible' 'edible'\n",
            " 'edible' 'edible' 'edible' 'poisonous' 'edible' 'edible' 'edible'\n",
            " 'edible' 'edible' 'poisonous' 'edible' 'edible' 'edible' 'edible'\n",
            " 'edible' 'edible' 'edible' 'poisonous' 'edible' 'edible' 'edible'\n",
            " 'edible' 'edible' 'edible' 'edible' 'edible' 'edible' 'edible' 'edible'\n",
            " 'edible' 'poisonous' 'edible' 'edible' 'edible' 'edible' 'edible'\n",
            " 'edible' 'poisonous' 'edible' 'edible' 'edible' 'edible' 'poisonous'\n",
            " 'edible' 'edible' 'edible' 'edible' 'edible' 'edible' 'poisonous'\n",
            " 'poisonous' 'edible' 'edible' 'poisonous' 'edible' 'edible' 'edible'\n",
            " 'edible' 'edible' 'edible' 'edible' 'edible' 'poisonous' 'edible'\n",
            " 'edible' 'edible' 'edible' 'edible' 'edible' 'edible' 'edible' 'edible'\n",
            " 'edible' 'edible' 'edible' 'edible' 'edible' 'edible' 'edible' 'edible'\n",
            " 'edible' 'edible' 'poisonous' 'edible' 'edible' 'edible' 'edible'\n",
            " 'edible' 'edible' 'edible' 'edible' 'edible' 'edible' 'edible' 'edible'\n",
            " 'edible' 'edible' 'edible' 'edible' 'edible' 'edible' 'edible' 'edible'\n",
            " 'edible' 'edible' 'edible' 'edible' 'edible' 'edible' 'edible' 'edible'\n",
            " 'edible' 'edible' 'edible' 'edible' 'edible' 'edible' 'edible' 'edible'\n",
            " 'edible' 'edible' 'edible' 'edible' 'edible' 'edible' 'edible' 'edible'\n",
            " 'edible' 'edible' 'edible' 'edible' 'poisonous' 'edible' 'edible'\n",
            " 'poisonous' 'edible' 'edible' 'edible' 'edible' 'edible' 'edible'\n",
            " 'edible' 'edible' 'edible' 'edible' 'poisonous' 'edible' 'edible'\n",
            " 'edible' 'edible' 'edible' 'edible' 'edible' 'edible' 'edible' 'edible'\n",
            " 'edible' 'edible' 'edible' 'edible' 'edible' 'edible' 'edible' 'edible'\n",
            " 'edible' 'edible' 'edible' 'edible' 'edible' 'edible' 'edible' 'edible'\n",
            " 'edible' 'edible' 'poisonous' 'edible' 'edible' 'edible' 'edible'\n",
            " 'edible' 'edible' 'edible' 'edible' 'edible' 'poisonous' 'edible'\n",
            " 'edible' 'edible' 'edible' 'edible' 'poisonous' 'edible' 'edible'\n",
            " 'edible' 'poisonous' 'edible' 'edible' 'edible' 'edible' 'poisonous'\n",
            " 'edible' 'edible' 'edible' 'poisonous' 'edible' 'edible' 'edible'\n",
            " 'edible' 'edible' 'edible' 'edible' 'edible' 'edible' 'edible' 'edible'\n",
            " 'poisonous' 'edible' 'poisonous' 'edible' 'edible' 'edible' 'edible'\n",
            " 'edible' 'edible' 'edible' 'edible' 'edible' 'poisonous' 'edible'\n",
            " 'edible' 'edible' 'edible' 'edible' 'poisonous' 'edible' 'edible'\n",
            " 'edible' 'edible' 'edible' 'edible' 'edible' 'edible' 'edible' 'edible'\n",
            " 'edible' 'edible' 'edible' 'edible' 'edible' 'edible' 'edible'\n",
            " 'poisonous' 'edible' 'edible' 'edible' 'edible' 'edible' 'edible'\n",
            " 'edible' 'edible' 'edible' 'edible' 'edible' 'edible' 'edible' 'edible'\n",
            " 'edible' 'edible' 'edible' 'edible' 'edible' 'edible' 'edible' 'edible'\n",
            " 'poisonous' 'edible' 'edible' 'edible' 'edible' 'edible' 'poisonous'\n",
            " 'edible' 'edible' 'edible' 'poisonous' 'edible' 'edible' 'edible'\n",
            " 'edible' 'edible' 'poisonous' 'edible' 'edible' 'edible' 'edible'\n",
            " 'poisonous' 'edible' 'edible' 'edible' 'poisonous' 'edible' 'edible'\n",
            " 'edible' 'edible' 'edible' 'edible' 'edible' 'edible' 'edible' 'edible'\n",
            " 'edible' 'poisonous' 'edible' 'edible' 'edible' 'edible' 'edible'\n",
            " 'edible' 'edible' 'edible' 'edible' 'poisonous' 'edible' 'poisonous'\n",
            " 'edible' 'edible' 'edible' 'edible' 'edible' 'edible' 'edible' 'edible'\n",
            " 'edible' 'edible' 'edible' 'poisonous' 'edible' 'edible' 'edible'\n",
            " 'edible' 'edible' 'edible' 'edible' 'edible' 'edible' 'edible' 'edible'\n",
            " 'edible' 'edible' 'edible' 'edible' 'edible' 'edible' 'edible' 'edible'\n",
            " 'edible' 'edible' 'edible' 'edible' 'poisonous' 'edible' 'poisonous'\n",
            " 'edible' 'edible' 'edible' 'edible' 'edible' 'poisonous' 'edible'\n",
            " 'edible' 'edible' 'poisonous' 'edible' 'edible' 'edible' 'edible'\n",
            " 'edible' 'poisonous' 'edible' 'edible' 'edible' 'edible' 'edible'\n",
            " 'edible' 'edible' 'edible' 'edible' 'edible' 'edible' 'edible' 'edible'\n",
            " 'edible' 'edible' 'edible' 'edible' 'edible' 'edible' 'edible' 'edible'\n",
            " 'edible' 'edible' 'edible' 'edible' 'edible' 'edible' 'edible']\n"
          ]
        }
      ]
    },
    {
      "cell_type": "markdown",
      "metadata": {
        "id": "ADJrZjERcbdz"
      },
      "source": [
        "# ***MLP-Multilayer Perceptron***"
      ]
    },
    {
      "cell_type": "code",
      "metadata": {
        "id": "UoUUR6KJcgH3"
      },
      "source": [
        "from sklearn.neural_network import MLPClassifier\n",
        "nnc=MLPClassifier(hidden_layer_sizes=(7), activation=\"relu\", max_iter=10000)"
      ],
      "execution_count": 25,
      "outputs": []
    },
    {
      "cell_type": "code",
      "metadata": {
        "id": "ucW1Y0vScpQP",
        "colab": {
          "base_uri": "https://localhost:8080/"
        },
        "outputId": "d618a1b5-0663-4e33-fc34-4fa8d6269362"
      },
      "source": [
        "nnc.fit(x_train, y_train)"
      ],
      "execution_count": 26,
      "outputs": [
        {
          "output_type": "execute_result",
          "data": {
            "text/plain": [
              "MLPClassifier(hidden_layer_sizes=7, max_iter=10000)"
            ]
          },
          "metadata": {},
          "execution_count": 26
        }
      ]
    },
    {
      "cell_type": "code",
      "metadata": {
        "id": "u-PLx7LHcsCN",
        "colab": {
          "base_uri": "https://localhost:8080/"
        },
        "outputId": "2424072c-e8b0-4c6e-a513-74d3e5cdef11"
      },
      "source": [
        "print(\"The Training accuracy of the model is {:.2f}\".format(nnc.score(x_train, y_train)))\n",
        "print(\"The Testing accuracy of the model is {:.2f}\".format(nnc.score(x_test, y_test)))\n",
        "a2nd=nnc.score(x_test, y_test)"
      ],
      "execution_count": 27,
      "outputs": [
        {
          "output_type": "stream",
          "name": "stdout",
          "text": [
            "The Training accuracy of the model is 1.00\n",
            "The Testing accuracy of the model is 1.00\n"
          ]
        }
      ]
    },
    {
      "cell_type": "code",
      "metadata": {
        "id": "_IWIJ_3xc0Gl",
        "colab": {
          "base_uri": "https://localhost:8080/"
        },
        "outputId": "845fc771-3567-429f-96d8-71013abdc645"
      },
      "source": [
        "predictions = nnc.predict(x_test)\n",
        "print(predictions)"
      ],
      "execution_count": 28,
      "outputs": [
        {
          "output_type": "stream",
          "name": "stdout",
          "text": [
            "['edible' 'edible' 'edible' 'poisonous' 'edible' 'poisonous' 'poisonous'\n",
            " 'edible' 'edible' 'edible' 'poisonous' 'edible' 'edible' 'edible'\n",
            " 'edible' 'edible' 'edible' 'edible' 'edible' 'poisonous' 'edible'\n",
            " 'edible' 'edible' 'edible' 'edible' 'edible' 'edible' 'edible' 'edible'\n",
            " 'edible' 'poisonous' 'edible' 'edible' 'edible' 'edible' 'edible'\n",
            " 'edible' 'edible' 'poisonous' 'edible' 'edible' 'edible' 'edible'\n",
            " 'edible' 'edible' 'edible' 'edible' 'edible' 'edible' 'edible' 'edible'\n",
            " 'edible' 'edible' 'edible' 'edible' 'edible' 'edible' 'edible' 'edible'\n",
            " 'edible' 'poisonous' 'edible' 'edible' 'edible' 'edible' 'edible'\n",
            " 'edible' 'edible' 'poisonous' 'edible' 'edible' 'edible' 'edible'\n",
            " 'edible' 'edible' 'edible' 'edible' 'edible' 'edible' 'edible'\n",
            " 'poisonous' 'edible' 'edible' 'edible' 'edible' 'edible' 'edible'\n",
            " 'edible' 'edible' 'poisonous' 'edible' 'edible' 'edible' 'edible'\n",
            " 'edible' 'edible' 'edible' 'edible' 'edible' 'poisonous' 'edible'\n",
            " 'edible' 'edible' 'edible' 'edible' 'edible' 'edible' 'edible' 'edible'\n",
            " 'edible' 'poisonous' 'edible' 'edible' 'edible' 'edible' 'edible'\n",
            " 'edible' 'edible' 'edible' 'edible' 'edible' 'edible' 'edible' 'edible'\n",
            " 'edible' 'edible' 'edible' 'edible' 'edible' 'edible' 'edible' 'edible'\n",
            " 'edible' 'edible' 'edible' 'poisonous' 'edible' 'poisonous' 'edible'\n",
            " 'edible' 'edible' 'edible' 'edible' 'edible' 'edible' 'poisonous'\n",
            " 'poisonous' 'edible' 'edible' 'edible' 'edible' 'edible' 'edible'\n",
            " 'edible' 'edible' 'edible' 'poisonous' 'edible' 'edible' 'edible'\n",
            " 'edible' 'edible' 'edible' 'edible' 'edible' 'edible' 'poisonous'\n",
            " 'poisonous' 'edible' 'edible' 'edible' 'edible' 'edible' 'edible'\n",
            " 'poisonous' 'edible' 'edible' 'edible' 'poisonous' 'edible' 'edible'\n",
            " 'edible' 'edible' 'edible' 'edible' 'edible' 'edible' 'edible' 'edible'\n",
            " 'edible' 'poisonous' 'poisonous' 'poisonous' 'edible' 'edible' 'edible'\n",
            " 'edible' 'edible' 'edible' 'edible' 'edible' 'edible' 'edible' 'edible'\n",
            " 'edible' 'edible' 'edible' 'edible' 'edible' 'edible' 'edible' 'edible'\n",
            " 'poisonous' 'edible' 'poisonous' 'edible' 'edible' 'edible' 'edible'\n",
            " 'edible' 'edible' 'edible' 'poisonous' 'edible' 'edible' 'edible'\n",
            " 'edible' 'edible' 'poisonous' 'edible' 'edible' 'edible' 'edible'\n",
            " 'edible' 'edible' 'edible' 'poisonous' 'edible' 'edible' 'edible'\n",
            " 'edible' 'edible' 'edible' 'edible' 'edible' 'edible' 'edible' 'edible'\n",
            " 'edible' 'poisonous' 'edible' 'edible' 'edible' 'edible' 'edible'\n",
            " 'edible' 'poisonous' 'edible' 'edible' 'edible' 'edible' 'poisonous'\n",
            " 'edible' 'edible' 'edible' 'edible' 'edible' 'edible' 'poisonous'\n",
            " 'poisonous' 'edible' 'edible' 'poisonous' 'edible' 'edible' 'edible'\n",
            " 'edible' 'edible' 'edible' 'edible' 'edible' 'poisonous' 'edible'\n",
            " 'edible' 'edible' 'edible' 'edible' 'edible' 'edible' 'edible' 'edible'\n",
            " 'edible' 'edible' 'edible' 'edible' 'edible' 'edible' 'edible' 'edible'\n",
            " 'edible' 'edible' 'poisonous' 'edible' 'edible' 'edible' 'edible'\n",
            " 'edible' 'edible' 'edible' 'edible' 'edible' 'edible' 'edible' 'edible'\n",
            " 'edible' 'edible' 'edible' 'edible' 'edible' 'edible' 'edible' 'edible'\n",
            " 'edible' 'edible' 'edible' 'edible' 'edible' 'edible' 'edible' 'edible'\n",
            " 'edible' 'edible' 'edible' 'edible' 'edible' 'edible' 'edible' 'edible'\n",
            " 'edible' 'edible' 'edible' 'edible' 'edible' 'edible' 'edible' 'edible'\n",
            " 'edible' 'edible' 'edible' 'edible' 'poisonous' 'edible' 'edible'\n",
            " 'poisonous' 'edible' 'edible' 'edible' 'edible' 'edible' 'edible'\n",
            " 'edible' 'edible' 'edible' 'edible' 'poisonous' 'edible' 'edible'\n",
            " 'edible' 'edible' 'edible' 'edible' 'edible' 'edible' 'edible' 'edible'\n",
            " 'edible' 'edible' 'edible' 'edible' 'edible' 'edible' 'edible' 'edible'\n",
            " 'edible' 'edible' 'edible' 'edible' 'edible' 'edible' 'edible' 'edible'\n",
            " 'edible' 'edible' 'poisonous' 'edible' 'edible' 'edible' 'edible'\n",
            " 'edible' 'edible' 'edible' 'edible' 'edible' 'poisonous' 'edible'\n",
            " 'edible' 'edible' 'edible' 'edible' 'poisonous' 'edible' 'edible'\n",
            " 'edible' 'poisonous' 'edible' 'edible' 'edible' 'edible' 'poisonous'\n",
            " 'edible' 'edible' 'edible' 'poisonous' 'edible' 'edible' 'edible'\n",
            " 'edible' 'edible' 'edible' 'edible' 'edible' 'edible' 'edible' 'edible'\n",
            " 'poisonous' 'edible' 'poisonous' 'edible' 'edible' 'edible' 'edible'\n",
            " 'edible' 'edible' 'edible' 'edible' 'edible' 'poisonous' 'edible'\n",
            " 'edible' 'edible' 'edible' 'edible' 'poisonous' 'edible' 'edible'\n",
            " 'edible' 'edible' 'edible' 'edible' 'edible' 'edible' 'edible' 'edible'\n",
            " 'edible' 'edible' 'edible' 'edible' 'edible' 'edible' 'edible'\n",
            " 'poisonous' 'edible' 'edible' 'edible' 'edible' 'edible' 'edible'\n",
            " 'edible' 'edible' 'edible' 'edible' 'edible' 'edible' 'edible' 'edible'\n",
            " 'edible' 'edible' 'edible' 'edible' 'edible' 'edible' 'edible' 'edible'\n",
            " 'poisonous' 'edible' 'edible' 'edible' 'edible' 'edible' 'poisonous'\n",
            " 'edible' 'edible' 'edible' 'poisonous' 'edible' 'edible' 'edible'\n",
            " 'edible' 'edible' 'poisonous' 'edible' 'edible' 'edible' 'edible'\n",
            " 'poisonous' 'edible' 'edible' 'edible' 'poisonous' 'edible' 'edible'\n",
            " 'edible' 'edible' 'edible' 'edible' 'edible' 'edible' 'edible' 'edible'\n",
            " 'edible' 'poisonous' 'edible' 'edible' 'edible' 'edible' 'edible'\n",
            " 'edible' 'edible' 'edible' 'edible' 'poisonous' 'edible' 'poisonous'\n",
            " 'edible' 'edible' 'edible' 'edible' 'edible' 'edible' 'edible' 'edible'\n",
            " 'edible' 'edible' 'edible' 'poisonous' 'edible' 'edible' 'edible'\n",
            " 'edible' 'edible' 'edible' 'edible' 'edible' 'edible' 'edible' 'edible'\n",
            " 'edible' 'edible' 'edible' 'edible' 'edible' 'edible' 'edible' 'edible'\n",
            " 'edible' 'edible' 'edible' 'edible' 'poisonous' 'edible' 'poisonous'\n",
            " 'edible' 'edible' 'edible' 'edible' 'edible' 'poisonous' 'edible'\n",
            " 'edible' 'edible' 'poisonous' 'edible' 'edible' 'edible' 'edible'\n",
            " 'edible' 'poisonous' 'edible' 'edible' 'edible' 'edible' 'edible'\n",
            " 'edible' 'edible' 'edible' 'edible' 'edible' 'edible' 'edible' 'edible'\n",
            " 'edible' 'edible' 'edible' 'edible' 'edible' 'edible' 'edible' 'edible'\n",
            " 'edible' 'edible' 'edible' 'edible' 'edible' 'edible' 'edible']\n"
          ]
        }
      ]
    },
    {
      "cell_type": "markdown",
      "metadata": {
        "id": "JUxUYN98c6kX"
      },
      "source": [
        "# ***Random Forest***"
      ]
    },
    {
      "cell_type": "code",
      "metadata": {
        "id": "6OuVE6JidAMl",
        "colab": {
          "base_uri": "https://localhost:8080/"
        },
        "outputId": "794927b1-7515-4c08-a5c6-17d179fece04"
      },
      "source": [
        "from sklearn.ensemble import RandomForestClassifier\n",
        "rfc = RandomForestClassifier(n_estimators=50)\n",
        "rfc.fit(x_train, y_train)"
      ],
      "execution_count": 29,
      "outputs": [
        {
          "output_type": "execute_result",
          "data": {
            "text/plain": [
              "RandomForestClassifier(n_estimators=50)"
            ]
          },
          "metadata": {},
          "execution_count": 29
        }
      ]
    },
    {
      "cell_type": "code",
      "metadata": {
        "id": "SqCfmyljdCze",
        "colab": {
          "base_uri": "https://localhost:8080/"
        },
        "outputId": "adec1d4e-a211-479e-92ac-fb1757469f7f"
      },
      "source": [
        "print(\"The Training accuracy of the model is {:.2f}\".format(rfc.score(x_train, y_train)))\n",
        "print(\"The Testing accuracy of the model is {:.2f}\".format(rfc.score(x_test, y_test)))\n",
        "a3rd=rfc.score(x_test, y_test)"
      ],
      "execution_count": 30,
      "outputs": [
        {
          "output_type": "stream",
          "name": "stdout",
          "text": [
            "The Training accuracy of the model is 1.00\n",
            "The Testing accuracy of the model is 1.00\n"
          ]
        }
      ]
    },
    {
      "cell_type": "code",
      "metadata": {
        "id": "QxlXS7jXdLBV"
      },
      "source": [
        "predictions = rfc.predict(x_test)"
      ],
      "execution_count": 31,
      "outputs": []
    },
    {
      "cell_type": "markdown",
      "metadata": {
        "id": "f3zGgjigdTeu"
      },
      "source": [
        "# ***PCA-Principal Component Analysis***"
      ]
    },
    {
      "cell_type": "code",
      "metadata": {
        "id": "OZX-utSrdVNd"
      },
      "source": [
        "from sklearn.decomposition import PCA \n",
        "pca = PCA(n_components=10)"
      ],
      "execution_count": 32,
      "outputs": []
    },
    {
      "cell_type": "code",
      "metadata": {
        "id": "ee-m-AYidkI9",
        "colab": {
          "base_uri": "https://localhost:8080/"
        },
        "outputId": "d4efd6cf-923e-45ed-dbe5-96a72dbd9e78"
      },
      "source": [
        "principal_components= pca.fit_transform(x)\n",
        "print(principal_components)"
      ],
      "execution_count": 33,
      "outputs": [
        {
          "output_type": "stream",
          "name": "stdout",
          "text": [
            "[[-1.56149644e+03  1.76597731e+00 -4.68952668e+00 ...  6.92147422e-01\n",
            "   1.76978914e-02 -1.10750233e+00]\n",
            " [-1.56050630e+03 -2.53789131e+00  3.36485897e-01 ... -2.91069372e-01\n",
            "   5.92429666e-02 -7.55567055e-01]\n",
            " [-1.55950559e+03 -1.27576117e+00  6.03474394e-01 ...  5.03751273e-01\n",
            "   1.83246394e-02 -1.09047131e+00]\n",
            " ...\n",
            " [ 1.55950308e+03 -1.89577613e+00  5.22725689e-01 ...  9.43235800e-01\n",
            "  -2.89316553e+00  5.61307917e-01]\n",
            " [ 1.56050655e+03 -1.36465895e+00 -3.46966888e-01 ...  2.61481261e+00\n",
            "   2.98724691e+00  1.53909403e+00]\n",
            " [ 1.56150530e+03 -9.26861942e-01 -7.58665208e-01 ...  1.16332924e+00\n",
            "   2.78414399e+00 -3.31760635e-01]]\n"
          ]
        }
      ]
    },
    {
      "cell_type": "code",
      "metadata": {
        "id": "kA7am4DSdmwd",
        "colab": {
          "base_uri": "https://localhost:8080/"
        },
        "outputId": "9a4a3f49-bb33-493d-94f7-21c902f56170"
      },
      "source": [
        "pca.explained_variance_ratio_"
      ],
      "execution_count": 34,
      "outputs": [
        {
          "output_type": "execute_result",
          "data": {
            "text/plain": [
              "array([9.99971192e-01, 7.42137877e-06, 6.33012329e-06, 3.30338945e-06,\n",
              "       2.63321830e-06, 1.98995734e-06, 1.71463568e-06, 1.61422061e-06,\n",
              "       1.44762165e-06, 8.65746659e-07])"
            ]
          },
          "metadata": {},
          "execution_count": 34
        }
      ]
    },
    {
      "cell_type": "code",
      "metadata": {
        "id": "cFMX5NVGdo-m",
        "colab": {
          "base_uri": "https://localhost:8080/"
        },
        "outputId": "2aa32066-09c8-4e7c-db7f-2ebf676395b4"
      },
      "source": [
        "sum(pca.explained_variance_ratio_)"
      ],
      "execution_count": 35,
      "outputs": [
        {
          "output_type": "execute_result",
          "data": {
            "text/plain": [
              "0.9999985124677971"
            ]
          },
          "metadata": {},
          "execution_count": 35
        }
      ]
    },
    {
      "cell_type": "code",
      "metadata": {
        "id": "0dWw9wrJdrkl"
      },
      "source": [
        "principal_df = pd.DataFrame(data=principal_components, columns=[\"principle component 1\", \"principle component 2\",\"principle component 3\", \"principle component 4\",\"principle component 5\",\"principle component 6\",\"principle component 7\",\"principle component 8\",\"principle component 9\",\"principle component 10\"])\n",
        "#principal_df.head()\n",
        "main_df=pd.concat([principal_df, y], axis=1)"
      ],
      "execution_count": 36,
      "outputs": []
    },
    {
      "cell_type": "code",
      "metadata": {
        "id": "1uS33RpLduoN",
        "colab": {
          "base_uri": "https://localhost:8080/",
          "height": 0
        },
        "outputId": "5822795b-1971-4c9a-c20f-8d75bff52d76"
      },
      "source": [
        "main_df.head()"
      ],
      "execution_count": 37,
      "outputs": [
        {
          "output_type": "execute_result",
          "data": {
            "text/html": [
              "\n",
              "  <div id=\"df-cc42521e-c2ca-48dc-8dbd-3821ef35a662\">\n",
              "    <div class=\"colab-df-container\">\n",
              "      <div>\n",
              "<style scoped>\n",
              "    .dataframe tbody tr th:only-of-type {\n",
              "        vertical-align: middle;\n",
              "    }\n",
              "\n",
              "    .dataframe tbody tr th {\n",
              "        vertical-align: top;\n",
              "    }\n",
              "\n",
              "    .dataframe thead th {\n",
              "        text-align: right;\n",
              "    }\n",
              "</style>\n",
              "<table border=\"1\" class=\"dataframe\">\n",
              "  <thead>\n",
              "    <tr style=\"text-align: right;\">\n",
              "      <th></th>\n",
              "      <th>principle component 1</th>\n",
              "      <th>principle component 2</th>\n",
              "      <th>principle component 3</th>\n",
              "      <th>principle component 4</th>\n",
              "      <th>principle component 5</th>\n",
              "      <th>principle component 6</th>\n",
              "      <th>principle component 7</th>\n",
              "      <th>principle component 8</th>\n",
              "      <th>principle component 9</th>\n",
              "      <th>principle component 10</th>\n",
              "      <th>class</th>\n",
              "    </tr>\n",
              "  </thead>\n",
              "  <tbody>\n",
              "    <tr>\n",
              "      <th>0</th>\n",
              "      <td>-1561.496436</td>\n",
              "      <td>1.765977</td>\n",
              "      <td>-4.689527</td>\n",
              "      <td>0.152957</td>\n",
              "      <td>2.936033</td>\n",
              "      <td>-0.525821</td>\n",
              "      <td>0.754118</td>\n",
              "      <td>0.692147</td>\n",
              "      <td>0.017698</td>\n",
              "      <td>-1.107502</td>\n",
              "      <td>poisonous</td>\n",
              "    </tr>\n",
              "    <tr>\n",
              "      <th>1</th>\n",
              "      <td>-1560.506304</td>\n",
              "      <td>-2.537891</td>\n",
              "      <td>0.336486</td>\n",
              "      <td>-2.650995</td>\n",
              "      <td>-2.015755</td>\n",
              "      <td>0.773825</td>\n",
              "      <td>-0.047243</td>\n",
              "      <td>-0.291069</td>\n",
              "      <td>0.059243</td>\n",
              "      <td>-0.755567</td>\n",
              "      <td>edible</td>\n",
              "    </tr>\n",
              "    <tr>\n",
              "      <th>2</th>\n",
              "      <td>-1559.505595</td>\n",
              "      <td>-1.275761</td>\n",
              "      <td>0.603474</td>\n",
              "      <td>2.928867</td>\n",
              "      <td>-0.352857</td>\n",
              "      <td>-0.698056</td>\n",
              "      <td>-0.078374</td>\n",
              "      <td>0.503751</td>\n",
              "      <td>0.018325</td>\n",
              "      <td>-1.090471</td>\n",
              "      <td>edible</td>\n",
              "    </tr>\n",
              "    <tr>\n",
              "      <th>3</th>\n",
              "      <td>-1558.503228</td>\n",
              "      <td>0.014341</td>\n",
              "      <td>-1.808347</td>\n",
              "      <td>-1.015676</td>\n",
              "      <td>3.476735</td>\n",
              "      <td>-2.277771</td>\n",
              "      <td>0.386440</td>\n",
              "      <td>1.405756</td>\n",
              "      <td>-0.029994</td>\n",
              "      <td>-0.612785</td>\n",
              "      <td>poisonous</td>\n",
              "    </tr>\n",
              "    <tr>\n",
              "      <th>4</th>\n",
              "      <td>-1557.494234</td>\n",
              "      <td>5.439791</td>\n",
              "      <td>-2.884255</td>\n",
              "      <td>-0.953389</td>\n",
              "      <td>-1.224453</td>\n",
              "      <td>1.178007</td>\n",
              "      <td>-1.422011</td>\n",
              "      <td>1.114613</td>\n",
              "      <td>0.016707</td>\n",
              "      <td>-1.042172</td>\n",
              "      <td>edible</td>\n",
              "    </tr>\n",
              "  </tbody>\n",
              "</table>\n",
              "</div>\n",
              "      <button class=\"colab-df-convert\" onclick=\"convertToInteractive('df-cc42521e-c2ca-48dc-8dbd-3821ef35a662')\"\n",
              "              title=\"Convert this dataframe to an interactive table.\"\n",
              "              style=\"display:none;\">\n",
              "        \n",
              "  <svg xmlns=\"http://www.w3.org/2000/svg\" height=\"24px\"viewBox=\"0 0 24 24\"\n",
              "       width=\"24px\">\n",
              "    <path d=\"M0 0h24v24H0V0z\" fill=\"none\"/>\n",
              "    <path d=\"M18.56 5.44l.94 2.06.94-2.06 2.06-.94-2.06-.94-.94-2.06-.94 2.06-2.06.94zm-11 1L8.5 8.5l.94-2.06 2.06-.94-2.06-.94L8.5 2.5l-.94 2.06-2.06.94zm10 10l.94 2.06.94-2.06 2.06-.94-2.06-.94-.94-2.06-.94 2.06-2.06.94z\"/><path d=\"M17.41 7.96l-1.37-1.37c-.4-.4-.92-.59-1.43-.59-.52 0-1.04.2-1.43.59L10.3 9.45l-7.72 7.72c-.78.78-.78 2.05 0 2.83L4 21.41c.39.39.9.59 1.41.59.51 0 1.02-.2 1.41-.59l7.78-7.78 2.81-2.81c.8-.78.8-2.07 0-2.86zM5.41 20L4 18.59l7.72-7.72 1.47 1.35L5.41 20z\"/>\n",
              "  </svg>\n",
              "      </button>\n",
              "      \n",
              "  <style>\n",
              "    .colab-df-container {\n",
              "      display:flex;\n",
              "      flex-wrap:wrap;\n",
              "      gap: 12px;\n",
              "    }\n",
              "\n",
              "    .colab-df-convert {\n",
              "      background-color: #E8F0FE;\n",
              "      border: none;\n",
              "      border-radius: 50%;\n",
              "      cursor: pointer;\n",
              "      display: none;\n",
              "      fill: #1967D2;\n",
              "      height: 32px;\n",
              "      padding: 0 0 0 0;\n",
              "      width: 32px;\n",
              "    }\n",
              "\n",
              "    .colab-df-convert:hover {\n",
              "      background-color: #E2EBFA;\n",
              "      box-shadow: 0px 1px 2px rgba(60, 64, 67, 0.3), 0px 1px 3px 1px rgba(60, 64, 67, 0.15);\n",
              "      fill: #174EA6;\n",
              "    }\n",
              "\n",
              "    [theme=dark] .colab-df-convert {\n",
              "      background-color: #3B4455;\n",
              "      fill: #D2E3FC;\n",
              "    }\n",
              "\n",
              "    [theme=dark] .colab-df-convert:hover {\n",
              "      background-color: #434B5C;\n",
              "      box-shadow: 0px 1px 3px 1px rgba(0, 0, 0, 0.15);\n",
              "      filter: drop-shadow(0px 1px 2px rgba(0, 0, 0, 0.3));\n",
              "      fill: #FFFFFF;\n",
              "    }\n",
              "  </style>\n",
              "\n",
              "      <script>\n",
              "        const buttonEl =\n",
              "          document.querySelector('#df-cc42521e-c2ca-48dc-8dbd-3821ef35a662 button.colab-df-convert');\n",
              "        buttonEl.style.display =\n",
              "          google.colab.kernel.accessAllowed ? 'block' : 'none';\n",
              "\n",
              "        async function convertToInteractive(key) {\n",
              "          const element = document.querySelector('#df-cc42521e-c2ca-48dc-8dbd-3821ef35a662');\n",
              "          const dataTable =\n",
              "            await google.colab.kernel.invokeFunction('convertToInteractive',\n",
              "                                                     [key], {});\n",
              "          if (!dataTable) return;\n",
              "\n",
              "          const docLinkHtml = 'Like what you see? Visit the ' +\n",
              "            '<a target=\"_blank\" href=https://colab.research.google.com/notebooks/data_table.ipynb>data table notebook</a>'\n",
              "            + ' to learn more about interactive tables.';\n",
              "          element.innerHTML = '';\n",
              "          dataTable['output_type'] = 'display_data';\n",
              "          await google.colab.output.renderOutput(dataTable, element);\n",
              "          const docLink = document.createElement('div');\n",
              "          docLink.innerHTML = docLinkHtml;\n",
              "          element.appendChild(docLink);\n",
              "        }\n",
              "      </script>\n",
              "    </div>\n",
              "  </div>\n",
              "  "
            ],
            "text/plain": [
              "   principle component 1  ...      class\n",
              "0           -1561.496436  ...  poisonous\n",
              "1           -1560.506304  ...     edible\n",
              "2           -1559.505595  ...     edible\n",
              "3           -1558.503228  ...  poisonous\n",
              "4           -1557.494234  ...     edible\n",
              "\n",
              "[5 rows x 11 columns]"
            ]
          },
          "metadata": {},
          "execution_count": 37
        }
      ]
    },
    {
      "cell_type": "code",
      "metadata": {
        "id": "jV2mJWEVd53t"
      },
      "source": [
        "Z=main_df.dropna()\n",
        "X= Z.drop(\"class\" , axis=1)\n",
        "y= Z[\"class\"]"
      ],
      "execution_count": 38,
      "outputs": []
    },
    {
      "cell_type": "code",
      "metadata": {
        "id": "ejN2z_gdfg2m"
      },
      "source": [
        "x_train, x_test, y_train, y_test = train_test_split(X , y , test_size=0.2, random_state=42)"
      ],
      "execution_count": 39,
      "outputs": []
    },
    {
      "cell_type": "code",
      "metadata": {
        "id": "f905VCEpfjp9",
        "colab": {
          "base_uri": "https://localhost:8080/"
        },
        "outputId": "ddbb4f8e-fd16-454a-a101-9704d6d37e68"
      },
      "source": [
        "print(\"Training set: x->{} , y->{} \\n Testing set: x->{} , y->{}\".format(x_train.shape, y_train.shape, x_test.shape, y_test.shape))"
      ],
      "execution_count": 40,
      "outputs": [
        {
          "output_type": "stream",
          "name": "stdout",
          "text": [
            "Training set: x->(2499, 10) , y->(2499,) \n",
            " Testing set: x->(625, 10) , y->(625,)\n"
          ]
        }
      ]
    },
    {
      "cell_type": "markdown",
      "metadata": {
        "id": "d2BP6mCyf7V9"
      },
      "source": [
        "# ***SVC,MLP and RF on reduced Dataset***"
      ]
    },
    {
      "cell_type": "markdown",
      "metadata": {
        "id": "pDv1iDnTicLO"
      },
      "source": [
        "**SVC**"
      ]
    },
    {
      "cell_type": "code",
      "metadata": {
        "id": "wF_f1QyqidZF",
        "colab": {
          "base_uri": "https://localhost:8080/"
        },
        "outputId": "c0fc4b01-b361-432c-f401-cc1096c4b7c2"
      },
      "source": [
        "from sklearn.svm import SVC\n",
        "svc = SVC(kernel=\"linear\")\n",
        "svc.fit(x_train, y_train)"
      ],
      "execution_count": 41,
      "outputs": [
        {
          "output_type": "execute_result",
          "data": {
            "text/plain": [
              "SVC(kernel='linear')"
            ]
          },
          "metadata": {},
          "execution_count": 41
        }
      ]
    },
    {
      "cell_type": "code",
      "metadata": {
        "id": "u_x4mBqXikS9",
        "colab": {
          "base_uri": "https://localhost:8080/"
        },
        "outputId": "3595ab23-bcc8-4167-b7a2-821ce813fcb6"
      },
      "source": [
        "print(\"Training accuracy of the model is {:.2f}\".format(svc.score(x_train, y_train)))\n",
        "print(\"Testing accuracy of the model is {:.2f}\".format(svc.score(x_test, y_test)))\n",
        "a4th=svc.score(x_test, y_test)"
      ],
      "execution_count": 42,
      "outputs": [
        {
          "output_type": "stream",
          "name": "stdout",
          "text": [
            "Training accuracy of the model is 0.95\n",
            "Testing accuracy of the model is 0.96\n"
          ]
        }
      ]
    },
    {
      "cell_type": "markdown",
      "metadata": {
        "id": "OmGgIxxWinwx"
      },
      "source": [
        "**MLP**"
      ]
    },
    {
      "cell_type": "code",
      "metadata": {
        "id": "CrFLYoXViovV"
      },
      "source": [
        "from sklearn.neural_network import MLPClassifier\n",
        "nnc=MLPClassifier(hidden_layer_sizes=(7), activation=\"relu\", max_iter=10000)"
      ],
      "execution_count": 43,
      "outputs": []
    },
    {
      "cell_type": "code",
      "metadata": {
        "colab": {
          "base_uri": "https://localhost:8080/"
        },
        "id": "z22NhYY9iuG2",
        "outputId": "3b986cf2-dfba-4717-c8dd-b5e09ddec2e8"
      },
      "source": [
        "nnc.fit(x_train, y_train)"
      ],
      "execution_count": 44,
      "outputs": [
        {
          "output_type": "execute_result",
          "data": {
            "text/plain": [
              "MLPClassifier(hidden_layer_sizes=7, max_iter=10000)"
            ]
          },
          "metadata": {},
          "execution_count": 44
        }
      ]
    },
    {
      "cell_type": "code",
      "metadata": {
        "colab": {
          "base_uri": "https://localhost:8080/"
        },
        "id": "aRcon1e-i0S9",
        "outputId": "5f5b272b-5eb0-460b-dd6f-5d26118bd893"
      },
      "source": [
        "print(\"The Training accuracy of the model is {:.2f}\".format(nnc.score(x_train, y_train)))\n",
        "print(\"The Testing accuracy of the model is {:.2f}\".format(nnc.score(x_test, y_test)))\n",
        "a5th=nnc.score(x_test, y_test)"
      ],
      "execution_count": 45,
      "outputs": [
        {
          "output_type": "stream",
          "name": "stdout",
          "text": [
            "The Training accuracy of the model is 0.99\n",
            "The Testing accuracy of the model is 0.99\n"
          ]
        }
      ]
    },
    {
      "cell_type": "markdown",
      "metadata": {
        "id": "m1k8pIUdi3J-"
      },
      "source": [
        "**Random Forest** "
      ]
    },
    {
      "cell_type": "code",
      "metadata": {
        "colab": {
          "base_uri": "https://localhost:8080/"
        },
        "id": "5aZ-E4qVi4Zl",
        "outputId": "18894ea9-f8c7-424b-f208-bc8f8ebf697d"
      },
      "source": [
        "from sklearn.ensemble import RandomForestClassifier\n",
        "rfc = RandomForestClassifier(n_estimators=50)\n",
        "rfc.fit(x_train, y_train)"
      ],
      "execution_count": 46,
      "outputs": [
        {
          "output_type": "execute_result",
          "data": {
            "text/plain": [
              "RandomForestClassifier(n_estimators=50)"
            ]
          },
          "metadata": {},
          "execution_count": 46
        }
      ]
    },
    {
      "cell_type": "code",
      "metadata": {
        "colab": {
          "base_uri": "https://localhost:8080/"
        },
        "id": "Vt40iPcji9GV",
        "outputId": "5e713e21-5a6b-4594-c358-46c0e87accdc"
      },
      "source": [
        "print(\"The Training accuracy of the model is {:.2f}\".format(rfc.score(x_train, y_train)))\n",
        "print(\"The Testing accuracy of the model is {:.2f}\".format(rfc.score(x_test, y_test)))\n",
        "a6th=rfc.score(x_test, y_test)"
      ],
      "execution_count": 47,
      "outputs": [
        {
          "output_type": "stream",
          "name": "stdout",
          "text": [
            "The Training accuracy of the model is 1.00\n",
            "The Testing accuracy of the model is 1.00\n"
          ]
        }
      ]
    },
    {
      "cell_type": "markdown",
      "metadata": {
        "id": "cBfQZg_fjK9m"
      },
      "source": [
        "# ***Comparing Results***"
      ]
    },
    {
      "cell_type": "code",
      "metadata": {
        "id": "YNWPUtMmjiq1",
        "colab": {
          "base_uri": "https://localhost:8080/",
          "height": 298
        },
        "outputId": "fc3d7d5c-6647-443b-8356-b51989e068b6"
      },
      "source": [
        "import matplotlib.pyplot as plt\n",
        "labels = ['Pre SVC','Post SVC', 'Pre NNC','Post NNC',\"Pre RFC\",\"PostRFC\"]\n",
        "men_means = [a1st,a4th,a2nd,a5th,a3rd,a6th]\n",
        "\n",
        "width = .35 \n",
        "\n",
        "fig, ax = plt.subplots()\n",
        "\n",
        "ax.bar(labels, men_means, width)\n",
        "\n",
        "ax.set_ylabel('Accuracy')\n",
        "ax.set_title('Comparison of the pre-PCA and post-PCA results ')\n",
        "ax.legend()\n",
        "\n",
        "plt.show()"
      ],
      "execution_count": 48,
      "outputs": [
        {
          "output_type": "stream",
          "name": "stderr",
          "text": [
            "No handles with labels found to put in legend.\n"
          ]
        },
        {
          "output_type": "display_data",
          "data": {
            "image/png": "[encoded data removed]",
            "text/plain": [
              "<Figure size 432x288 with 1 Axes>"
            ]
          },
          "metadata": {
            "needs_background": "light"
          }
        }
      ]
    }
  ]
}